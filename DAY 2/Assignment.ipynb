{
 "metadata": {
  "language_info": {
   "codemirror_mode": {
    "name": "ipython",
    "version": 3
   },
   "file_extension": ".py",
   "mimetype": "text/x-python",
   "name": "python",
   "nbconvert_exporter": "python",
   "pygments_lexer": "ipython3",
   "version": 3
  },
  "orig_nbformat": 2,
  "kernelspec": {
   "name": "python_defaultSpec_1595479899332",
   "display_name": "Python 3.7.8 64-bit"
  }
 },
 "nbformat": 4,
 "nbformat_minor": 2,
 "cells": [
  {
   "cell_type": "code",
   "execution_count": null,
   "metadata": {
    "tags": []
   },
   "outputs": [],
   "source": [
    "# 1) Find sum of n numbers with the help of while loop\n",
    "\n",
    "num1 = int(input(\"Enter the value of n: \"))\n",
    "num2 = num1\n",
    "sum = 0\n",
    "\n",
    "if num1 <= 0:\n",
    "    print(\"Enter a whole positive number!\") \n",
    "\n",
    "else: \n",
    "    while num1 > 0:\n",
    "        sum = sum + num1\n",
    "        num1 = num1 - 1\n",
    "print(\"Sum of first\", num2 ,\"natural numbers is: \", sum)\n"
   ]
  },
  {
   "cell_type": "code",
   "execution_count": null,
   "metadata": {
    "tags": []
   },
   "outputs": [],
   "source": [
    "# 2) Take an integer and find whether the number is prime or not.\n",
    "\n",
    "num3 = int(input(\"Enter a number\"))\n",
    "\n",
    "if num3 > 1: \n",
    "\n",
    "   for i in range(2, x): \n",
    "\n",
    "       if (num3 % i) == 0: \n",
    "           print(num3, \"is not a prime number.\") \n",
    "           break\n",
    "   else: \n",
    "       print(num3, \"is a prime number.\") \n",
    "  \n",
    "else: \n",
    "   print(num3, \"is not a prime number.\") \n"
   ]
  },
  {
   "cell_type": "code",
   "execution_count": null,
   "metadata": {},
   "outputs": [],
   "source": [
    "\n",
    "\n",
    "\n",
    "\n",
    "\n",
    "\n",
    "\n"
   ]
  }
 ]
}