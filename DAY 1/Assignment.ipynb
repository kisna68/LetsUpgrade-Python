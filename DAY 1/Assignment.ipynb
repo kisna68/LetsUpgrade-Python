{
 "metadata": {
  "language_info": {
   "codemirror_mode": {
    "name": "ipython",
    "version": 3
   },
   "file_extension": ".py",
   "mimetype": "text/x-python",
   "name": "python",
   "nbconvert_exporter": "python",
   "pygments_lexer": "ipython3",
   "version": 3
  },
  "orig_nbformat": 2,
  "kernelspec": {
   "name": "python_defaultSpec_1595390046756",
   "display_name": "Python 3.7.8 64-bit"
  }
 },
 "nbformat": 4,
 "nbformat_minor": 2,
 "cells": [
  {
   "cell_type": "code",
   "execution_count": null,
   "metadata": {},
   "outputs": [],
   "source": [
    "print(\"hello \\\n",
    "world\")\n",
    "\"\"\" \n",
    "'\\' backslash is a special character also called as escape character.\n",
    "can be used for many purposes like single backslash as a sign of continuation\n",
    "\\n for new line\n",
    "\\t for new tab\n",
    "\"\"\""
   ]
  },
  {
   "cell_type": "code",
   "execution_count": null,
   "metadata": {},
   "outputs": [],
   "source": [
    "\"\"\"\n",
    "Triple Quotes are used for multi line strings/comments.\n",
    "Types;\n",
    "Triplet of single quotes \\''' \n",
    "Triplet of double quotes \\\"\"\"\n",
    "\n",
    "\"\"\"\n"
   ]
  },
  {
   "cell_type": "code",
   "execution_count": null,
   "metadata": {
    "tags": []
   },
   "outputs": [],
   "source": [
    "\"\"\"\n",
    "String Formatting --> Python uses c style string formatting to create new, formatted strings or to get formatted output.\n",
    "                      The '%'(modulo) operator is used to format a set of variables enclosed in a \"tuple\"\n",
    "                      together with a format string which contains strings with \"argument/format \n",
    "                      specifiers\".\n",
    "                      Special symbols for different data types like \"%s\",\"%d\",\"%f\" for string, integer\n",
    "                      ,float variables respectively.\n",
    "\"\"\"\n",
    "#Case 1 --> Only one variable. for example name only....\n",
    "\n",
    "name=\"Wayne\"\n",
    "print(\"Hello %s\" %name )\n",
    "\n",
    "#Case 2 --> Multiple variables. for example name and age...\n",
    "\n",
    "age=22\n",
    "print(\"Hello %s! \\nAre you %d years old?\" %(name,age))\n",
    "\n",
    "#Try float data type\n",
    "\n",
    "print(\"Hello %s! \\nAre you %f years old?\" %(name,age))\n",
    "\n",
    "#Now try to limit the decimal values by replacing %.nf with %f where n is the no. of decimal values we want...\n",
    "\n",
    "print(\"Hello %s! \\nAre you %.2f years old?\" %(name,age))\n"
   ]
  },
  {
   "cell_type": "code",
   "execution_count": null,
   "metadata": {},
   "outputs": [],
   "source": [
    "# Two variables can have same memory address if and only if there values lies in  -5 to 256\n",
    "\n",
    "a1=256\n",
    "id(a1)\n",
    "del a1\n",
    " \n",
    "a2=256\n",
    "id(a2)\n",
    "\n",
    "\n",
    "\n"
   ]
  },
  {
   "cell_type": "code",
   "execution_count": null,
   "metadata": {},
   "outputs": [],
   "source": [
    "x=30\n",
    "y=40\n",
    "x<y\n",
    "x>y\n",
    "\n",
    "z=\"string\"\n",
    "\"i\" in z"
   ]
  },
  {
   "cell_type": "code",
   "execution_count": null,
   "metadata": {},
   "outputs": [],
   "source": [
    "10>8>9\n",
    "# This equals to 10>8 and 8>9 which means for this to become True, both the conditions must True.\n",
    "\n"
   ]
  },
  {
   "cell_type": "code",
   "execution_count": null,
   "metadata": {},
   "outputs": [],
   "source": []
  }
 ]
}