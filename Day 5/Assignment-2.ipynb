{
 "cells": [
  {
   "cell_type": "code",
   "execution_count": 8,
   "metadata": {},
   "outputs": [],
   "source": [
    "# list1=[10,20,40,60,70,80] sorted list\n",
    "# list2=[5,15,25,35,45,60] sorted list\n",
    "# Merge these two sorted lists to produce one sorted list, but use only loop either while or for only one time."
   ]
  },
  {
   "cell_type": "code",
   "execution_count": 9,
   "metadata": {},
   "outputs": [],
   "source": [
    "def mergeTwoList(list1, list2, n1, n2):\n",
    "    list3 = [None] * (n1 + n2)\n",
    "    i = 0\n",
    "    j = 0\n",
    "    k = 0\n",
    "    while i < n1 and j < n2:\n",
    "        if list1[i] < list2[j]:\n",
    "            list3[k] = list1[i]\n",
    "            i += 1\n",
    "            k += 1\n",
    "        else:\n",
    "            list3[k] = list2[j]\n",
    "            j += 1\n",
    "            k += 1\n",
    "    while i < n1:\n",
    "        list3[k] = list1[i]\n",
    "        i += 1\n",
    "        k += 1\n",
    "    while k < n2:\n",
    "        list3[k] = list1[j]\n",
    "        j += 1\n",
    "        k += 1\n",
    "    print('List after merging : ', end = \" \")\n",
    "    for i in range(n1 + n2):\n",
    "        print(str(list3[i]), end = \", \")"
   ]
  },
  {
   "cell_type": "code",
   "execution_count": 10,
   "metadata": {},
   "outputs": [],
   "source": [
    "list1=[10,20,40,60,70,80]\n",
    "list2=[5,15,25,35,45,60]"
   ]
  },
  {
   "cell_type": "code",
   "execution_count": 11,
   "metadata": {},
   "outputs": [],
   "source": [
    "n1 = len(list1)\n",
    "n2 = len(list2)"
   ]
  },
  {
   "cell_type": "code",
   "execution_count": 12,
   "metadata": {},
   "outputs": [
    {
     "name": "stdout",
     "output_type": "stream",
     "text": [
      "List after merging :  5, 10, 15, 20, 25, 35, 40, 45, 60, 60, 70, 80, "
     ]
    }
   ],
   "source": [
    "mergeTwoList(list1, list2, n1, n2)"
   ]
  }
 ],
 "metadata": {
  "kernelspec": {
   "display_name": "Python 3",
   "language": "python",
   "name": "python3"
  },
  "language_info": {
   "codemirror_mode": {
    "name": "ipython",
    "version": 3
   },
   "file_extension": ".py",
   "mimetype": "text/x-python",
   "name": "python",
   "nbconvert_exporter": "python",
   "pygments_lexer": "ipython3",
   "version": "3.7.6"
  }
 },
 "nbformat": 4,
 "nbformat_minor": 4
}
