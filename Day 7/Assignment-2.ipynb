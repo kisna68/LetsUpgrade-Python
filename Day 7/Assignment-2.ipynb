{
 "cells": [
  {
   "cell_type": "code",
   "execution_count": 1,
   "metadata": {},
   "outputs": [],
   "source": [
    "# Take a list of tuple as shown below.\n",
    "# [(1,2), (3,4), (5,6),(4,5)]\n",
    "# Make a new list which contains the sum of the number of tuples.\n",
    "# For example\n",
    "# Input\n",
    "# [(1,2), (3,4), (5,6)]\n",
    "# Output\n",
    "# [3, 7, 11]"
   ]
  },
  {
   "cell_type": "code",
   "execution_count": 2,
   "metadata": {},
   "outputs": [],
   "source": [
    "list_tuple = [(1, 2), (3, 4), (5, 6), (4, 5)]"
   ]
  },
  {
   "cell_type": "code",
   "execution_count": 3,
   "metadata": {},
   "outputs": [],
   "source": [
    "list_sum_of_tuple = []"
   ]
  },
  {
   "cell_type": "code",
   "execution_count": 4,
   "metadata": {},
   "outputs": [],
   "source": [
    "for i in list_tuple:\n",
    "    sum_of_tuple = 0\n",
    "    for j in i:\n",
    "        sum_of_tuple += j\n",
    "    list_sum_of_tuple.append(sum_of_tuple)"
   ]
  },
  {
   "cell_type": "code",
   "execution_count": 5,
   "metadata": {},
   "outputs": [
    {
     "name": "stdout",
     "output_type": "stream",
     "text": [
      "[3, 7, 11, 9]\n"
     ]
    }
   ],
   "source": [
    "print(list_sum_of_tuple)"
   ]
  }
 ],
 "metadata": {
  "kernelspec": {
   "display_name": "Python 3",
   "language": "python",
   "name": "python3"
  },
  "language_info": {
   "codemirror_mode": {
    "name": "ipython",
    "version": 3
   },
   "file_extension": ".py",
   "mimetype": "text/x-python",
   "name": "python",
   "nbconvert_exporter": "python",
   "pygments_lexer": "ipython3",
   "version": "3.7.6"
  }
 },
 "nbformat": 4,
 "nbformat_minor": 4
}
